{
  "nbformat": 4,
  "nbformat_minor": 0,
  "metadata": {
    "colab": {
      "name": "weightpredictionfromheight.ipynb",
      "provenance": [],
      "collapsed_sections": []
    },
    "kernelspec": {
      "name": "python3",
      "display_name": "Python 3"
    },
    "language_info": {
      "name": "python"
    }
  },
  "cells": [
    {
      "cell_type": "markdown",
      "source": [
        "# Height And Weight Prediction"
      ],
      "metadata": {
        "id": "51-N2PfOhcvv"
      }
    },
    {
      "cell_type": "code",
      "execution_count": 1,
      "metadata": {
        "id": "wE0wX7wJha8Q"
      },
      "outputs": [],
      "source": [
        "#Importing necessary Libraries\n",
        "import numpy as np \n",
        "import pandas as pd\n",
        "import matplotlib.pyplot as plt"
      ]
    },
    {
      "cell_type": "code",
      "source": [
        "#Reading the file\n",
        "df = pd.read_excel('/content/heightandweightdataset.xlsx') "
      ],
      "metadata": {
        "id": "y-xpeW2DlaFU"
      },
      "execution_count": 2,
      "outputs": []
    },
    {
      "cell_type": "markdown",
      "source": [
        "## Data Analysis"
      ],
      "metadata": {
        "id": "MGUW6Z7Kn3gS"
      }
    },
    {
      "cell_type": "code",
      "source": [
        "df.head()"
      ],
      "metadata": {
        "colab": {
          "base_uri": "https://localhost:8080/",
          "height": 206
        },
        "id": "Sp-RUjxtnKMl",
        "outputId": "95afeda8-99de-4580-d247-3c1198a7451f"
      },
      "execution_count": 3,
      "outputs": [
        {
          "output_type": "execute_result",
          "data": {
            "text/html": [
              "<div>\n",
              "<style scoped>\n",
              "    .dataframe tbody tr th:only-of-type {\n",
              "        vertical-align: middle;\n",
              "    }\n",
              "\n",
              "    .dataframe tbody tr th {\n",
              "        vertical-align: top;\n",
              "    }\n",
              "\n",
              "    .dataframe thead th {\n",
              "        text-align: right;\n",
              "    }\n",
              "</style>\n",
              "<table border=\"1\" class=\"dataframe\">\n",
              "  <thead>\n",
              "    <tr style=\"text-align: right;\">\n",
              "      <th></th>\n",
              "      <th>Height(Inches)</th>\n",
              "      <th>Weight(Pounds)</th>\n",
              "    </tr>\n",
              "  </thead>\n",
              "  <tbody>\n",
              "    <tr>\n",
              "      <th>0</th>\n",
              "      <td>65.78331</td>\n",
              "      <td>112.9925</td>\n",
              "    </tr>\n",
              "    <tr>\n",
              "      <th>1</th>\n",
              "      <td>71.51521</td>\n",
              "      <td>136.4873</td>\n",
              "    </tr>\n",
              "    <tr>\n",
              "      <th>2</th>\n",
              "      <td>69.39874</td>\n",
              "      <td>153.0269</td>\n",
              "    </tr>\n",
              "    <tr>\n",
              "      <th>3</th>\n",
              "      <td>68.21660</td>\n",
              "      <td>142.3354</td>\n",
              "    </tr>\n",
              "    <tr>\n",
              "      <th>4</th>\n",
              "      <td>67.78781</td>\n",
              "      <td>144.2971</td>\n",
              "    </tr>\n",
              "  </tbody>\n",
              "</table>\n",
              "</div>"
            ],
            "text/plain": [
              "   Height(Inches)  Weight(Pounds)\n",
              "0        65.78331        112.9925\n",
              "1        71.51521        136.4873\n",
              "2        69.39874        153.0269\n",
              "3        68.21660        142.3354\n",
              "4        67.78781        144.2971"
            ]
          },
          "metadata": {},
          "execution_count": 3
        }
      ]
    },
    {
      "cell_type": "code",
      "source": [
        "df.describe()"
      ],
      "metadata": {
        "colab": {
          "base_uri": "https://localhost:8080/",
          "height": 300
        },
        "id": "V0tYWKUjmmh7",
        "outputId": "356a2024-25d1-46fb-bdfc-257c29e76bc0"
      },
      "execution_count": 4,
      "outputs": [
        {
          "output_type": "execute_result",
          "data": {
            "text/html": [
              "<div>\n",
              "<style scoped>\n",
              "    .dataframe tbody tr th:only-of-type {\n",
              "        vertical-align: middle;\n",
              "    }\n",
              "\n",
              "    .dataframe tbody tr th {\n",
              "        vertical-align: top;\n",
              "    }\n",
              "\n",
              "    .dataframe thead th {\n",
              "        text-align: right;\n",
              "    }\n",
              "</style>\n",
              "<table border=\"1\" class=\"dataframe\">\n",
              "  <thead>\n",
              "    <tr style=\"text-align: right;\">\n",
              "      <th></th>\n",
              "      <th>Height(Inches)</th>\n",
              "      <th>Weight(Pounds)</th>\n",
              "    </tr>\n",
              "  </thead>\n",
              "  <tbody>\n",
              "    <tr>\n",
              "      <th>count</th>\n",
              "      <td>25000.000000</td>\n",
              "      <td>25000.000000</td>\n",
              "    </tr>\n",
              "    <tr>\n",
              "      <th>mean</th>\n",
              "      <td>67.993114</td>\n",
              "      <td>127.079421</td>\n",
              "    </tr>\n",
              "    <tr>\n",
              "      <th>std</th>\n",
              "      <td>1.901679</td>\n",
              "      <td>11.660898</td>\n",
              "    </tr>\n",
              "    <tr>\n",
              "      <th>min</th>\n",
              "      <td>60.278360</td>\n",
              "      <td>78.014760</td>\n",
              "    </tr>\n",
              "    <tr>\n",
              "      <th>25%</th>\n",
              "      <td>66.704397</td>\n",
              "      <td>119.308675</td>\n",
              "    </tr>\n",
              "    <tr>\n",
              "      <th>50%</th>\n",
              "      <td>67.995700</td>\n",
              "      <td>127.157750</td>\n",
              "    </tr>\n",
              "    <tr>\n",
              "      <th>75%</th>\n",
              "      <td>69.272958</td>\n",
              "      <td>134.892850</td>\n",
              "    </tr>\n",
              "    <tr>\n",
              "      <th>max</th>\n",
              "      <td>75.152800</td>\n",
              "      <td>170.924000</td>\n",
              "    </tr>\n",
              "  </tbody>\n",
              "</table>\n",
              "</div>"
            ],
            "text/plain": [
              "       Height(Inches)  Weight(Pounds)\n",
              "count    25000.000000    25000.000000\n",
              "mean        67.993114      127.079421\n",
              "std          1.901679       11.660898\n",
              "min         60.278360       78.014760\n",
              "25%         66.704397      119.308675\n",
              "50%         67.995700      127.157750\n",
              "75%         69.272958      134.892850\n",
              "max         75.152800      170.924000"
            ]
          },
          "metadata": {},
          "execution_count": 4
        }
      ]
    },
    {
      "cell_type": "code",
      "source": [
        "#Checking for null values\n",
        "df.isnull().sum()"
      ],
      "metadata": {
        "colab": {
          "base_uri": "https://localhost:8080/"
        },
        "id": "LOlOCBY0myiX",
        "outputId": "83858f73-bed6-48b6-f7e2-fe5e66e0d05e"
      },
      "execution_count": 5,
      "outputs": [
        {
          "output_type": "execute_result",
          "data": {
            "text/plain": [
              "Height(Inches)    0\n",
              "Weight(Pounds)    0\n",
              "dtype: int64"
            ]
          },
          "metadata": {},
          "execution_count": 5
        }
      ]
    },
    {
      "cell_type": "code",
      "source": [
        "df.info()"
      ],
      "metadata": {
        "colab": {
          "base_uri": "https://localhost:8080/"
        },
        "id": "aZxNYBz-nRiu",
        "outputId": "0310f4f5-d57a-4570-e71d-c6f4531643dd"
      },
      "execution_count": 6,
      "outputs": [
        {
          "output_type": "stream",
          "name": "stdout",
          "text": [
            "<class 'pandas.core.frame.DataFrame'>\n",
            "RangeIndex: 25000 entries, 0 to 24999\n",
            "Data columns (total 2 columns):\n",
            " #   Column          Non-Null Count  Dtype  \n",
            "---  ------          --------------  -----  \n",
            " 0   Height(Inches)  25000 non-null  float64\n",
            " 1   Weight(Pounds)  25000 non-null  float64\n",
            "dtypes: float64(2)\n",
            "memory usage: 390.8 KB\n"
          ]
        }
      ]
    },
    {
      "cell_type": "code",
      "source": [
        "#Scatter plot of Weight Vs. Height\n",
        "plt.figure(figsize = (10,5))\n",
        "plt.title('Weight Vs. Height')\n",
        "plt.xlabel('Height(Inches)')\n",
        "plt.ylabel('Weight(Pounds)')\n",
        "plt.scatter(df['Height(Inches)'], df['Weight(Pounds)'])\n",
        "plt.show()"
      ],
      "metadata": {
        "colab": {
          "base_uri": "https://localhost:8080/",
          "height": 350
        },
        "id": "oXrlpqrunyy4",
        "outputId": "171522aa-2235-4326-9bf3-ec21b7d026de"
      },
      "execution_count": 7,
      "outputs": [
        {
          "output_type": "display_data",
          "data": {
            "image/png": "[encoded data removed]",
            "text/plain": [
              "<Figure size 720x360 with 1 Axes>"
            ]
          },
          "metadata": {
            "needs_background": "light"
          }
        }
      ]
    },
    {
      "cell_type": "markdown",
      "source": [
        "### Outlier Detection"
      ],
      "metadata": {
        "id": "3I96L6rxovUe"
      }
    },
    {
      "cell_type": "code",
      "source": [
        "Q1 = df['Height(Inches)'].quantile(0.25)\n",
        "Q3 = df['Height(Inches)'].quantile(0.75)\n",
        "Q1, Q3"
      ],
      "metadata": {
        "colab": {
          "base_uri": "https://localhost:8080/"
        },
        "id": "vVJXlmtirIH7",
        "outputId": "8e5a3b4f-75f4-42a5-e8f8-108e2af245ca"
      },
      "execution_count": 8,
      "outputs": [
        {
          "output_type": "execute_result",
          "data": {
            "text/plain": [
              "(66.7043975, 69.2729575)"
            ]
          },
          "metadata": {},
          "execution_count": 8
        }
      ]
    },
    {
      "cell_type": "code",
      "source": [
        "IQR = Q3 - Q1\n",
        "IQR"
      ],
      "metadata": {
        "colab": {
          "base_uri": "https://localhost:8080/"
        },
        "id": "4UNR1b6drLQH",
        "outputId": "4988ee79-bdc0-4525-f297-d2d16dca31db"
      },
      "execution_count": 9,
      "outputs": [
        {
          "output_type": "execute_result",
          "data": {
            "text/plain": [
              "2.568560000000005"
            ]
          },
          "metadata": {},
          "execution_count": 9
        }
      ]
    },
    {
      "cell_type": "code",
      "source": [
        "lower_limit = Q1 - 1.5*IQR\n",
        "upper_limit = Q3 + 1.5*IQR\n",
        "lower_limit, upper_limit"
      ],
      "metadata": {
        "colab": {
          "base_uri": "https://localhost:8080/"
        },
        "id": "xLykw_CVrNma",
        "outputId": "73d68668-9793-4d76-f5f2-49cafacc41ca"
      },
      "execution_count": 10,
      "outputs": [
        {
          "output_type": "execute_result",
          "data": {
            "text/plain": [
              "(62.85155749999999, 73.1257975)"
            ]
          },
          "metadata": {},
          "execution_count": 10
        }
      ]
    },
    {
      "cell_type": "code",
      "source": [
        "df_new = df[(df['Height(Inches)']>lower_limit)&(df['Height(Inches)']<upper_limit)]\n",
        "data = pd.DataFrame(df_new)\n",
        "data.head()"
      ],
      "metadata": {
        "colab": {
          "base_uri": "https://localhost:8080/",
          "height": 206
        },
        "id": "oQK8uFjbrSBa",
        "outputId": "9ec63275-5539-4407-f74e-3668b28c8d22"
      },
      "execution_count": 11,
      "outputs": [
        {
          "output_type": "execute_result",
          "data": {
            "text/html": [
              "<div>\n",
              "<style scoped>\n",
              "    .dataframe tbody tr th:only-of-type {\n",
              "        vertical-align: middle;\n",
              "    }\n",
              "\n",
              "    .dataframe tbody tr th {\n",
              "        vertical-align: top;\n",
              "    }\n",
              "\n",
              "    .dataframe thead th {\n",
              "        text-align: right;\n",
              "    }\n",
              "</style>\n",
              "<table border=\"1\" class=\"dataframe\">\n",
              "  <thead>\n",
              "    <tr style=\"text-align: right;\">\n",
              "      <th></th>\n",
              "      <th>Height(Inches)</th>\n",
              "      <th>Weight(Pounds)</th>\n",
              "    </tr>\n",
              "  </thead>\n",
              "  <tbody>\n",
              "    <tr>\n",
              "      <th>0</th>\n",
              "      <td>65.78331</td>\n",
              "      <td>112.9925</td>\n",
              "    </tr>\n",
              "    <tr>\n",
              "      <th>1</th>\n",
              "      <td>71.51521</td>\n",
              "      <td>136.4873</td>\n",
              "    </tr>\n",
              "    <tr>\n",
              "      <th>2</th>\n",
              "      <td>69.39874</td>\n",
              "      <td>153.0269</td>\n",
              "    </tr>\n",
              "    <tr>\n",
              "      <th>3</th>\n",
              "      <td>68.21660</td>\n",
              "      <td>142.3354</td>\n",
              "    </tr>\n",
              "    <tr>\n",
              "      <th>4</th>\n",
              "      <td>67.78781</td>\n",
              "      <td>144.2971</td>\n",
              "    </tr>\n",
              "  </tbody>\n",
              "</table>\n",
              "</div>"
            ],
            "text/plain": [
              "   Height(Inches)  Weight(Pounds)\n",
              "0        65.78331        112.9925\n",
              "1        71.51521        136.4873\n",
              "2        69.39874        153.0269\n",
              "3        68.21660        142.3354\n",
              "4        67.78781        144.2971"
            ]
          },
          "metadata": {},
          "execution_count": 11
        }
      ]
    },
    {
      "cell_type": "markdown",
      "source": [
        "### Creating Train and Test Dataset"
      ],
      "metadata": {
        "id": "i7fKKwMZrW6Y"
      }
    },
    {
      "cell_type": "code",
      "source": [
        "X = data.iloc[:,:-1].values\n",
        "y = data.iloc[:,-1].values"
      ],
      "metadata": {
        "id": "ONucNRgppDc3"
      },
      "execution_count": 12,
      "outputs": []
    },
    {
      "cell_type": "code",
      "source": [
        "X"
      ],
      "metadata": {
        "colab": {
          "base_uri": "https://localhost:8080/"
        },
        "id": "oJwsGgyWpwOk",
        "outputId": "cb9d81da-055c-49da-c0c2-c7521aa25f95"
      },
      "execution_count": 13,
      "outputs": [
        {
          "output_type": "execute_result",
          "data": {
            "text/plain": [
              "array([[65.78331],\n",
              "       [71.51521],\n",
              "       [69.39874],\n",
              "       ...,\n",
              "       [64.69855],\n",
              "       [67.52918],\n",
              "       [68.87761]])"
            ]
          },
          "metadata": {},
          "execution_count": 13
        }
      ]
    },
    {
      "cell_type": "code",
      "source": [
        "y"
      ],
      "metadata": {
        "colab": {
          "base_uri": "https://localhost:8080/"
        },
        "id": "CYSf4q7-pyGW",
        "outputId": "d48a03a9-816c-46fc-da1e-56c27c9d4fa5"
      },
      "execution_count": 14,
      "outputs": [
        {
          "output_type": "execute_result",
          "data": {
            "text/plain": [
              "array([112.9925, 136.4873, 153.0269, ..., 118.2655, 132.2682, 124.8742])"
            ]
          },
          "metadata": {},
          "execution_count": 14
        }
      ]
    },
    {
      "cell_type": "code",
      "source": [
        "from sklearn.model_selection import train_test_split\n",
        "x_train, x_test, y_train, y_test = train_test_split(X, y, random_state = 0, test_size = 0.3)"
      ],
      "metadata": {
        "id": "70HXGCkZo7QR"
      },
      "execution_count": 15,
      "outputs": []
    },
    {
      "cell_type": "markdown",
      "source": [
        "## Models"
      ],
      "metadata": {
        "id": "CegXEd0lrsRB"
      }
    },
    {
      "cell_type": "code",
      "source": [
        "#Importing packages for error analysis\n",
        "from sklearn.metrics import mean_squared_error\n",
        "from sklearn.metrics import r2_score"
      ],
      "metadata": {
        "id": "G1jKHOxKrwbI"
      },
      "execution_count": 16,
      "outputs": []
    },
    {
      "cell_type": "code",
      "source": [
        "#Lists for storing Model Name, Score and Errors of respective models\n",
        "models=[]\n",
        "scores=[]\n",
        "errors=[]"
      ],
      "metadata": {
        "id": "FZ6m0ZrnsCRW"
      },
      "execution_count": 17,
      "outputs": []
    },
    {
      "cell_type": "markdown",
      "source": [
        "### Linear Regression\n"
      ],
      "metadata": {
        "id": "NuAiCF90r-Bt"
      }
    },
    {
      "cell_type": "code",
      "source": [
        "from sklearn.linear_model import LinearRegression\n",
        "lr = LinearRegression()\n",
        "lr.fit(x_train, y_train)\n",
        "lr_pred = lr.predict(x_test)\n",
        "\n",
        "lr_score = r2_score(y_test, lr_pred)\n",
        "lr_error = np.sqrt(mean_squared_error(y_test, lr_pred))"
      ],
      "metadata": {
        "id": "9j0Fuy5ApCGT"
      },
      "execution_count": 18,
      "outputs": []
    },
    {
      "cell_type": "code",
      "source": [
        "lr_score"
      ],
      "metadata": {
        "colab": {
          "base_uri": "https://localhost:8080/"
        },
        "id": "XcgDpuQRp7QE",
        "outputId": "888b9c50-84b3-456e-ce34-3e03f13e2f7f"
      },
      "execution_count": 19,
      "outputs": [
        {
          "output_type": "execute_result",
          "data": {
            "text/plain": [
              "0.24005846522508278"
            ]
          },
          "metadata": {},
          "execution_count": 19
        }
      ]
    },
    {
      "cell_type": "code",
      "source": [
        "lr_error"
      ],
      "metadata": {
        "colab": {
          "base_uri": "https://localhost:8080/"
        },
        "id": "jQi9ugdzqEPB",
        "outputId": "962c1fbf-3069-408f-bf42-61e77ea997be"
      },
      "execution_count": 20,
      "outputs": [
        {
          "output_type": "execute_result",
          "data": {
            "text/plain": [
              "10.134584974575208"
            ]
          },
          "metadata": {},
          "execution_count": 20
        }
      ]
    },
    {
      "cell_type": "code",
      "source": [
        "models.append('Linear Regression')\n",
        "scores.append(lr_score)\n",
        "errors.append(lr_error)"
      ],
      "metadata": {
        "id": "25MaXr-ap4vO"
      },
      "execution_count": 21,
      "outputs": []
    },
    {
      "cell_type": "markdown",
      "source": [
        "### GradientBoosting Regression"
      ],
      "metadata": {
        "id": "VBPyvjeVsjlf"
      }
    },
    {
      "cell_type": "code",
      "source": [
        "from sklearn.ensemble import GradientBoostingRegressor\n",
        "gbr = GradientBoostingRegressor()\n",
        "gbr.fit(x_train,y_train)\n",
        "gbr_pred = gbr.predict(x_test)\n",
        "\n",
        "gbr_score = r2_score(y_test, gbr_pred)\n",
        "gbr_error = np.sqrt(mean_squared_error(y_test, gbr_pred))"
      ],
      "metadata": {
        "id": "-wKKnw0EzqdL"
      },
      "execution_count": 22,
      "outputs": []
    },
    {
      "cell_type": "code",
      "source": [
        "gbr_score"
      ],
      "metadata": {
        "id": "HgvAOiPKsWlX",
        "colab": {
          "base_uri": "https://localhost:8080/"
        },
        "outputId": "6b20267f-abc7-4468-d4a8-d14ac3069e3f"
      },
      "execution_count": 23,
      "outputs": [
        {
          "output_type": "execute_result",
          "data": {
            "text/plain": [
              "0.23821195662359274"
            ]
          },
          "metadata": {},
          "execution_count": 23
        }
      ]
    },
    {
      "cell_type": "code",
      "source": [
        "gbr_error"
      ],
      "metadata": {
        "id": "EersISyEsXSQ",
        "colab": {
          "base_uri": "https://localhost:8080/"
        },
        "outputId": "19536d58-e7fa-4829-da74-665564db21ad"
      },
      "execution_count": 24,
      "outputs": [
        {
          "output_type": "execute_result",
          "data": {
            "text/plain": [
              "10.146890029418351"
            ]
          },
          "metadata": {},
          "execution_count": 24
        }
      ]
    },
    {
      "cell_type": "code",
      "source": [
        "models.append('GradientBoosting Regression')\n",
        "scores.append(gbr_score)\n",
        "errors.append(gbr_error)"
      ],
      "metadata": {
        "id": "WUgW1l9GsXkK"
      },
      "execution_count": 25,
      "outputs": []
    },
    {
      "cell_type": "markdown",
      "source": [
        "### Support Vector Regression"
      ],
      "metadata": {
        "id": "B5k8RNrAsrdd"
      }
    },
    {
      "cell_type": "code",
      "source": [
        "from sklearn.svm import SVR\n",
        "svr = SVR()\n",
        "svr.fit(x_train,y_train)\n",
        "svr_pred = svr.predict(x_test)\n",
        "\n",
        "svr_score = r2_score(y_test, svr_pred)\n",
        "svr_error = np.sqrt(mean_squared_error(y_test, svr_pred))\n"
      ],
      "metadata": {
        "id": "cL_FnNqEzsQB"
      },
      "execution_count": 26,
      "outputs": []
    },
    {
      "cell_type": "code",
      "source": [
        "svr_score"
      ],
      "metadata": {
        "id": "g2Q_xwjuuEA9",
        "colab": {
          "base_uri": "https://localhost:8080/"
        },
        "outputId": "6109e91a-0865-42b6-9418-eaee5a60eb69"
      },
      "execution_count": 27,
      "outputs": [
        {
          "output_type": "execute_result",
          "data": {
            "text/plain": [
              "0.2395111880783095"
            ]
          },
          "metadata": {},
          "execution_count": 27
        }
      ]
    },
    {
      "cell_type": "code",
      "source": [
        "svr_error"
      ],
      "metadata": {
        "id": "lw4rzT8IuF22",
        "colab": {
          "base_uri": "https://localhost:8080/"
        },
        "outputId": "2d1f59c4-df12-48e9-faf9-ccbb5b4f4a6c"
      },
      "execution_count": 28,
      "outputs": [
        {
          "output_type": "execute_result",
          "data": {
            "text/plain": [
              "10.138233563499407"
            ]
          },
          "metadata": {},
          "execution_count": 28
        }
      ]
    },
    {
      "cell_type": "code",
      "source": [
        "models.append('SVR')\n",
        "scores.append(svr_score)\n",
        "errors.append(svr_error)"
      ],
      "metadata": {
        "id": "z0V3WDZZt5dr"
      },
      "execution_count": 29,
      "outputs": []
    },
    {
      "cell_type": "markdown",
      "source": [
        "### Randomforest Regression"
      ],
      "metadata": {
        "id": "D0xi8-Mxt2vo"
      }
    },
    {
      "cell_type": "code",
      "source": [
        "from sklearn.ensemble import RandomForestRegressor\n",
        "rfr = RandomForestRegressor()\n",
        "\n",
        "rfr.fit(x_train,y_train)\n",
        "rfr_pred = rfr.predict(x_test)"
      ],
      "metadata": {
        "id": "udVIUTics9i7"
      },
      "execution_count": 30,
      "outputs": []
    },
    {
      "cell_type": "code",
      "source": [
        "rfr_score = r2_score(y_test,rfr_pred)\n",
        "rfr_error = np.sqrt(mean_squared_error(y_test,rfr_pred))"
      ],
      "metadata": {
        "id": "7ATVW9w3tiRt"
      },
      "execution_count": 31,
      "outputs": []
    },
    {
      "cell_type": "code",
      "source": [
        "rfr_score"
      ],
      "metadata": {
        "id": "u1YWgCSI6_JK",
        "outputId": "3edaa669-6e67-4899-b94b-eb7b4c89c850",
        "colab": {
          "base_uri": "https://localhost:8080/"
        }
      },
      "execution_count": 32,
      "outputs": [
        {
          "output_type": "execute_result",
          "data": {
            "text/plain": [
              "-0.08707695726311404"
            ]
          },
          "metadata": {},
          "execution_count": 32
        }
      ]
    },
    {
      "cell_type": "code",
      "source": [
        "rfr_error"
      ],
      "metadata": {
        "id": "wyZ-RESEtpJf",
        "colab": {
          "base_uri": "https://localhost:8080/"
        },
        "outputId": "6f458516-5a7c-4d99-d510-1386430b4da0"
      },
      "execution_count": 33,
      "outputs": [
        {
          "output_type": "execute_result",
          "data": {
            "text/plain": [
              "12.121211318044224"
            ]
          },
          "metadata": {},
          "execution_count": 33
        }
      ]
    },
    {
      "cell_type": "markdown",
      "source": [
        "Since, R squared Score is negative, that means our model has a bad fit."
      ],
      "metadata": {
        "id": "OwRaV4q1tJhl"
      }
    },
    {
      "cell_type": "code",
      "source": [
        "# models.append('Randomforest Regression')\n",
        "# scores.append(rfr_score)\n",
        "# errors.append(rfr_error)"
      ],
      "metadata": {
        "id": "30vQvVC5tAMs"
      },
      "execution_count": 34,
      "outputs": []
    },
    {
      "cell_type": "markdown",
      "source": [
        "### KNN Regression"
      ],
      "metadata": {
        "id": "bW317MieviJw"
      }
    },
    {
      "cell_type": "code",
      "source": [
        "from sklearn.neighbors import KNeighborsRegressor\n"
      ],
      "metadata": {
        "id": "Dso1OvO6vJLL"
      },
      "execution_count": 35,
      "outputs": []
    },
    {
      "cell_type": "code",
      "source": [
        "error_knn = []\n",
        "\n",
        "for i in range(1, 100, 2):\n",
        "    \n",
        "    knn = KNeighborsRegressor(n_neighbors=i)\n",
        "    knn.fit(x_train, y_train)\n",
        "    knn_pred_i = knn.predict(x_test)  \n",
        "    error_knn.append(np.sqrt(mean_squared_error(y_test, knn_pred_i)))\n"
      ],
      "metadata": {
        "id": "2FX4jc_NyDHh"
      },
      "execution_count": 36,
      "outputs": []
    },
    {
      "cell_type": "code",
      "source": [
        "error_knn"
      ],
      "metadata": {
        "colab": {
          "base_uri": "https://localhost:8080/"
        },
        "id": "nS7E4N7Gyl3u",
        "outputId": "ff37a4e8-c570-44c1-de4d-f489a2b8f955"
      },
      "execution_count": 37,
      "outputs": [
        {
          "output_type": "execute_result",
          "data": {
            "text/plain": [
              "[14.081410341747587,\n",
              " 11.625412268309674,\n",
              " 11.040099726765547,\n",
              " 10.753506382794107,\n",
              " 10.616840592100923,\n",
              " 10.53354169702199,\n",
              " 10.456540249360618,\n",
              " 10.418961306239346,\n",
              " 10.403546053793491,\n",
              " 10.373781499149173,\n",
              " 10.346281817570333,\n",
              " 10.337432130521796,\n",
              " 10.317655125040364,\n",
              " 10.307543258848021,\n",
              " 10.289359761272614,\n",
              " 10.280051861322441,\n",
              " 10.269662381315646,\n",
              " 10.25885184822742,\n",
              " 10.25355180043255,\n",
              " 10.24219838467663,\n",
              " 10.235699350257594,\n",
              " 10.230190458701413,\n",
              " 10.22382471620067,\n",
              " 10.213019467738144,\n",
              " 10.20814184175828,\n",
              " 10.207294482487129,\n",
              " 10.206533877781782,\n",
              " 10.207338473562528,\n",
              " 10.200960032693354,\n",
              " 10.196385397919856,\n",
              " 10.193490680750811,\n",
              " 10.197696890457717,\n",
              " 10.19766524412835,\n",
              " 10.198553592286235,\n",
              " 10.192437606496977,\n",
              " 10.189817942358799,\n",
              " 10.188094404179049,\n",
              " 10.184219998605691,\n",
              " 10.182546719799081,\n",
              " 10.179335886478325,\n",
              " 10.175745731146284,\n",
              " 10.175589494160535,\n",
              " 10.17817913590739,\n",
              " 10.178859994154926,\n",
              " 10.175717761074393,\n",
              " 10.176421787047659,\n",
              " 10.174780668407244,\n",
              " 10.17142379487218,\n",
              " 10.172124050691208,\n",
              " 10.174326290721728]"
            ]
          },
          "metadata": {},
          "execution_count": 37
        }
      ]
    },
    {
      "cell_type": "code",
      "source": [
        "iteration = error_knn.index(min(error_knn))\n",
        "iteration"
      ],
      "metadata": {
        "colab": {
          "base_uri": "https://localhost:8080/"
        },
        "id": "Hkt4Ytcm0D5_",
        "outputId": "624479e0-5183-43c8-a3a9-9cf1b9172ee0"
      },
      "execution_count": 38,
      "outputs": [
        {
          "output_type": "execute_result",
          "data": {
            "text/plain": [
              "47"
            ]
          },
          "metadata": {},
          "execution_count": 38
        }
      ]
    },
    {
      "cell_type": "code",
      "source": [
        "#error_knn[47] occurs for K Value (n_neighbours) = 95"
      ],
      "metadata": {
        "id": "KuPqWhNH0K4i"
      },
      "execution_count": 39,
      "outputs": []
    },
    {
      "cell_type": "markdown",
      "source": [
        "MSE for our model is minimum when K value is 95\n",
        "\n"
      ],
      "metadata": {
        "id": "Z3cbTtos1ST0"
      }
    },
    {
      "cell_type": "code",
      "source": [
        "plt.figure(figsize=(10, 5))\n",
        "plt.plot(range(1,100,2), error_knn, color='blue', linestyle = 'dashed', marker = 'o')\n",
        "plt.title('RMSE vs. K Value')\n",
        "plt.xlabel('K')\n",
        "plt.ylabel('RMSE')"
      ],
      "metadata": {
        "colab": {
          "base_uri": "https://localhost:8080/",
          "height": 367
        },
        "id": "uXcSVTrfykEc",
        "outputId": "5a4da4e2-dc64-467c-b875-3f722b53ee95"
      },
      "execution_count": 40,
      "outputs": [
        {
          "output_type": "execute_result",
          "data": {
            "text/plain": [
              "Text(0, 0.5, 'RMSE')"
            ]
          },
          "metadata": {},
          "execution_count": 40
        },
        {
          "output_type": "display_data",
          "data": {
            "image/png": "[encoded data removed]",
            "text/plain": [
              "<Figure size 720x360 with 1 Axes>"
            ]
          },
          "metadata": {
            "needs_background": "light"
          }
        }
      ]
    },
    {
      "cell_type": "code",
      "source": [
        "knn = KNeighborsRegressor(n_neighbors = 95)\n",
        "knn.fit(x_train,y_train)\n",
        "knn_pred = knn.predict(x_test)"
      ],
      "metadata": {
        "id": "n3N01Fnc16HB"
      },
      "execution_count": 41,
      "outputs": []
    },
    {
      "cell_type": "code",
      "source": [
        "knn_score = r2_score(y_test, knn_pred)\n",
        "knn_error = np.sqrt(mean_squared_error(y_test, knn_pred))"
      ],
      "metadata": {
        "id": "LhEx7IvOvu_c"
      },
      "execution_count": 42,
      "outputs": []
    },
    {
      "cell_type": "code",
      "source": [
        "knn_score"
      ],
      "metadata": {
        "id": "y85l5oSev0qd",
        "colab": {
          "base_uri": "https://localhost:8080/"
        },
        "outputId": "02ce9cc1-cbf1-4979-9bfc-0ce23a42608a"
      },
      "execution_count": 43,
      "outputs": [
        {
          "output_type": "execute_result",
          "data": {
            "text/plain": [
              "0.23452370860563865"
            ]
          },
          "metadata": {},
          "execution_count": 43
        }
      ]
    },
    {
      "cell_type": "code",
      "source": [
        "knn_error"
      ],
      "metadata": {
        "id": "pSkQKPMIv2W3",
        "colab": {
          "base_uri": "https://localhost:8080/"
        },
        "outputId": "c18e46ac-6af7-4e72-fff5-0e715044df08"
      },
      "execution_count": 44,
      "outputs": [
        {
          "output_type": "execute_result",
          "data": {
            "text/plain": [
              "10.17142379487218"
            ]
          },
          "metadata": {},
          "execution_count": 44
        }
      ]
    },
    {
      "cell_type": "code",
      "source": [
        "models.append('KNN Regression')\n",
        "scores.append(knn_score)\n",
        "errors.append(knn_error)"
      ],
      "metadata": {
        "id": "usqIkWFdv3tY"
      },
      "execution_count": 45,
      "outputs": []
    },
    {
      "cell_type": "markdown",
      "source": [
        "## Error Metrics"
      ],
      "metadata": {
        "id": "RLmTJsA8vKqV"
      }
    },
    {
      "cell_type": "code",
      "source": [
        "scores"
      ],
      "metadata": {
        "id": "b6Y6tu1LtFRL",
        "colab": {
          "base_uri": "https://localhost:8080/"
        },
        "outputId": "5e26f28d-b90f-4f05-8d5d-2fb0d34b781a"
      },
      "execution_count": 46,
      "outputs": [
        {
          "output_type": "execute_result",
          "data": {
            "text/plain": [
              "[0.24005846522508278,\n",
              " 0.23821195662359274,\n",
              " 0.2395111880783095,\n",
              " 0.23452370860563865]"
            ]
          },
          "metadata": {},
          "execution_count": 46
        }
      ]
    },
    {
      "cell_type": "code",
      "source": [
        "errors"
      ],
      "metadata": {
        "id": "XcCCR02xtKOX",
        "colab": {
          "base_uri": "https://localhost:8080/"
        },
        "outputId": "e166a579-30da-4003-fb8f-a29b13b04630"
      },
      "execution_count": 47,
      "outputs": [
        {
          "output_type": "execute_result",
          "data": {
            "text/plain": [
              "[10.134584974575208, 10.146890029418351, 10.138233563499407, 10.17142379487218]"
            ]
          },
          "metadata": {},
          "execution_count": 47
        }
      ]
    },
    {
      "cell_type": "code",
      "source": [
        "plt.figure(figsize=(10,5))\n",
        "plt.bar(models, scores)\n",
        "plt.ylabel('R squared scores')\n",
        "plt.show()"
      ],
      "metadata": {
        "colab": {
          "base_uri": "https://localhost:8080/",
          "height": 321
        },
        "id": "LDeUIY_rtQIz",
        "outputId": "c6f1a1f7-8c3c-4284-b8ab-9058ef80fc48"
      },
      "execution_count": 48,
      "outputs": [
        {
          "output_type": "display_data",
          "data": {
            "image/png": "[encoded data removed]",
            "text/plain": [
              "<Figure size 720x360 with 1 Axes>"
            ]
          },
          "metadata": {
            "needs_background": "light"
          }
        }
      ]
    },
    {
      "cell_type": "code",
      "source": [
        "plt.figure(figsize=(10,5))\n",
        "plt.bar(models, errors)\n",
        "plt.ylabel('RMSE')\n",
        "plt.show()"
      ],
      "metadata": {
        "colab": {
          "base_uri": "https://localhost:8080/",
          "height": 320
        },
        "id": "GtmXegZcz8_V",
        "outputId": "1703c8ec-e02d-46c8-d6cf-48b67ea87c5c"
      },
      "execution_count": 49,
      "outputs": [
        {
          "output_type": "display_data",
          "data": {
            "image/png": "[encoded data removed]",
            "text/plain": [
              "<Figure size 720x360 with 1 Axes>"
            ]
          },
          "metadata": {
            "needs_background": "light"
          }
        }
      ]
    },
    {
      "cell_type": "markdown",
      "source": [
        "All of the models have roughly the same accuracy."
      ],
      "metadata": {
        "id": "c9GjvAHF2ZJ4"
      }
    }
  ]
}